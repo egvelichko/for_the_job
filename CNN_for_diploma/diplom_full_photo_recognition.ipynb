{
  "nbformat": 4,
  "nbformat_minor": 0,
  "metadata": {
    "colab": {
      "provenance": [],
      "collapsed_sections": []
    },
    "kernelspec": {
      "name": "python3",
      "display_name": "Python 3"
    },
    "language_info": {
      "name": "python"
    },
    "accelerator": "GPU"
  },
  "cells": [
    {
      "cell_type": "code",
      "source": [
        "import torch\n",
        "torch.__version__"
      ],
      "metadata": {
        "colab": {
          "base_uri": "https://localhost:8080/",
          "height": 36
        },
        "id": "nqFmJKjtTYjh",
        "outputId": "c7674015-bb23-48c9-b805-45e85dcf1b75"
      },
      "execution_count": null,
      "outputs": [
        {
          "output_type": "execute_result",
          "data": {
            "text/plain": [
              "'1.11.0+cu113'"
            ],
            "application/vnd.google.colaboratory.intrinsic+json": {
              "type": "string"
            }
          },
          "metadata": {},
          "execution_count": 1
        }
      ]
    },
    {
      "cell_type": "code",
      "source": [
        "!pip list"
      ],
      "metadata": {
        "id": "6hGEBIOBTuyf"
      },
      "execution_count": null,
      "outputs": []
    },
    {
      "cell_type": "code",
      "source": [
        "!python --version"
      ],
      "metadata": {
        "colab": {
          "base_uri": "https://localhost:8080/"
        },
        "id": "sDiU-isbVIYK",
        "outputId": "e92cebce-2709-4be3-cf87-b278bf92df59"
      },
      "execution_count": null,
      "outputs": [
        {
          "output_type": "stream",
          "name": "stdout",
          "text": [
            "Python 3.7.13\n"
          ]
        }
      ]
    },
    {
      "cell_type": "code",
      "source": [
        "def normal_img(input_gray_img):\n",
        "  gray_img = input_gray_img.copy().astype('float32')\n",
        "\n",
        "  min_ = gray_img.min()\n",
        "  max_ = gray_img.max()\n",
        "\n",
        "  if (min_<0):\n",
        "    gray_img = gray_img + abs(min_)\n",
        "\n",
        "  min_ = gray_img.min()\n",
        "  max_ = gray_img.max()\n",
        "\n",
        "  gray_img = min_+255*(gray_img-min_)/(max_-min_)\n",
        "\n",
        "  min_ = gray_img.min()\n",
        "  max_ = gray_img.max()\n",
        "\n",
        "  return gray_img.astype('uint8')"
      ],
      "metadata": {
        "id": "MU0HcozbKqEx"
      },
      "execution_count": null,
      "outputs": []
    },
    {
      "cell_type": "code",
      "source": [],
      "metadata": {
        "id": "_P9Vm_2HKqv4"
      },
      "execution_count": null,
      "outputs": []
    },
    {
      "cell_type": "code",
      "execution_count": null,
      "metadata": {
        "colab": {
          "base_uri": "https://localhost:8080/"
        },
        "id": "NCNYCDtf_UxW",
        "outputId": "9cc26aba-912a-46a7-fd96-2004c47c8fef"
      },
      "outputs": [
        {
          "output_type": "stream",
          "name": "stdout",
          "text": [
            "Mounted at /content/MyDrive\n"
          ]
        }
      ],
      "source": [
        "from google.colab import drive\n",
        "drive.mount('/content/MyDrive')"
      ]
    },
    {
      "cell_type": "code",
      "source": [
        "!ls ./MyDrive/MyDrive/vs_object_n"
      ],
      "metadata": {
        "colab": {
          "base_uri": "https://localhost:8080/"
        },
        "id": "HUkdggJBAEr0",
        "outputId": "914fafc7-4934-4911-b3df-7fc99b717a5d"
      },
      "execution_count": null,
      "outputs": [
        {
          "output_type": "stream",
          "name": "stdout",
          "text": [
            "'20220529 091059 - 0.973 0.927 - resnet18 эпох 20 батч 20 шаг 0.001 кажд 20 эпох измен в 0.1 раз.dat'\n",
            "'20220529 092001 - 0.975 0.931 - resnet34 эпох 20 батч 20 шаг 0.001 кажд 20 эпох измен в 0.1 раз.dat'\n",
            "'20220529 092845 - 0.988 0.923 - resnet101 эпох 20 батч 20 шаг 0.001 кажд 20 эпох измен в 0.1 раз.dat'\n",
            "'20220529 094030 - 0.988 0.919 - resnet152 эпох 20 батч 20 шаг 0.001 кажд 20 эпох измен в 0.1 раз.dat'\n",
            "'20220529 095649 - 0.956 0.9 - GoogLeNet эпох 20 батч 20 шаг 0.001 кажд 20 эпох измен в 0.1 раз.dat'\n",
            " imgObjectsM.zip\n"
          ]
        }
      ]
    },
    {
      "cell_type": "code",
      "source": [
        "import os\n",
        "path = './MyDrive/MyDrive/vs_object_n'\n",
        "print(os.listdir(path))"
      ],
      "metadata": {
        "colab": {
          "base_uri": "https://localhost:8080/"
        },
        "id": "NcIombL6AVCP",
        "outputId": "85318132-a9a7-4c3a-c187-6f90ab01cd04"
      },
      "execution_count": null,
      "outputs": [
        {
          "output_type": "stream",
          "name": "stdout",
          "text": [
            "['20220529 091059 - 0.973 0.927 - resnet18 эпох 20 батч 20 шаг 0.001 кажд 20 эпох измен в 0.1 раз.dat', '20220529 092001 - 0.975 0.931 - resnet34 эпох 20 батч 20 шаг 0.001 кажд 20 эпох измен в 0.1 раз.dat', '20220529 092845 - 0.988 0.923 - resnet101 эпох 20 батч 20 шаг 0.001 кажд 20 эпох измен в 0.1 раз.dat', '20220529 094030 - 0.988 0.919 - resnet152 эпох 20 батч 20 шаг 0.001 кажд 20 эпох измен в 0.1 раз.dat', '20220529 095649 - 0.956 0.9 - GoogLeNet эпох 20 батч 20 шаг 0.001 кажд 20 эпох измен в 0.1 раз.dat', 'imgObjectsM.zip']\n"
          ]
        }
      ]
    },
    {
      "cell_type": "code",
      "source": [
        "zipfilename = 'imgObjectsM.zip'\n",
        "imgfolder = zipfilename.split('.')[0]"
      ],
      "metadata": {
        "id": "xAjofaQpK6ZW"
      },
      "execution_count": null,
      "outputs": []
    },
    {
      "cell_type": "code",
      "source": [
        "# распаковка файлов в эту виртуальную машину (гораздо быстрее, чем в облако Google Disk)\n",
        "new_path = './'\n",
        "import zipfile\n",
        "with zipfile.ZipFile(os.path.join(path, zipfilename), 'r') as zip_obj:  \n",
        "  zip_obj.extractall(new_path)"
      ],
      "metadata": {
        "id": "4WKi_P_LCPMO"
      },
      "execution_count": null,
      "outputs": []
    },
    {
      "cell_type": "code",
      "source": [
        "l_dir = os.listdir(os.path.join(new_path, imgfolder))\n",
        "for i in range(len(l_dir)):\n",
        "  l_files = os.listdir(os.path.join(new_path, imgfolder, l_dir[i]))\n",
        "  print(l_dir[i], len(l_files))"
      ],
      "metadata": {
        "colab": {
          "base_uri": "https://localhost:8080/"
        },
        "id": "FR4Ayx1rfvB0",
        "outputId": "9641b311-3fb4-4127-fe53-bf612cea0c88"
      },
      "execution_count": null,
      "outputs": [
        {
          "output_type": "stream",
          "name": "stdout",
          "text": [
            "oven 100\n",
            "smartstove 100\n",
            "gastove 100\n",
            "boiler 100\n",
            "bed 100\n",
            "couch 100\n",
            "microwave 100\n",
            "tv 100\n",
            "ref 100\n",
            "washer 100\n",
            "bath 100\n",
            "elstove 100\n",
            "cabin 100\n"
          ]
        }
      ]
    },
    {
      "cell_type": "code",
      "source": [
        "l_dir"
      ],
      "metadata": {
        "colab": {
          "base_uri": "https://localhost:8080/"
        },
        "id": "Abn85BAkgh5M",
        "outputId": "4e1b79e1-6cca-4da6-89c2-9063ec5dc6c5"
      },
      "execution_count": null,
      "outputs": [
        {
          "output_type": "execute_result",
          "data": {
            "text/plain": [
              "['oven',\n",
              " 'smartstove',\n",
              " 'gastove',\n",
              " 'boiler',\n",
              " 'bed',\n",
              " 'couch',\n",
              " 'microwave',\n",
              " 'tv',\n",
              " 'ref',\n",
              " 'washer',\n",
              " 'bath',\n",
              " 'elstove',\n",
              " 'cabin']"
            ]
          },
          "metadata": {},
          "execution_count": 33
        }
      ]
    },
    {
      "cell_type": "code",
      "source": [
        "import numpy as np"
      ],
      "metadata": {
        "id": "fKJyFPYd35Hu"
      },
      "execution_count": null,
      "outputs": []
    },
    {
      "cell_type": "code",
      "source": [
        "import cv2\n",
        "from google.colab.patches import cv2_imshow\n",
        "\n",
        "import shutil # для работы с файлами\n",
        "from tqdm import tqdm # прогресс бар\n",
        "\n",
        "import imutils # для поворота изображения"
      ],
      "metadata": {
        "id": "33zdyudB1jhc"
      },
      "execution_count": null,
      "outputs": []
    },
    {
      "cell_type": "code",
      "source": [
        "!rm -r ./train\n",
        "!rm -r ./val"
      ],
      "metadata": {
        "id": "5BX4dkWO7pfd"
      },
      "execution_count": null,
      "outputs": []
    },
    {
      "cell_type": "markdown",
      "source": [
        "Создаем обучающую (80%) и тестовую (20%) выборки"
      ],
      "metadata": {
        "id": "hbT_VOhEiKQN"
      }
    },
    {
      "cell_type": "code",
      "source": [
        "train_dir = 'train'\n",
        "val_dir = 'val'\n",
        "\n",
        "os.makedirs(os.path.join(new_path, train_dir), exist_ok=True)\n",
        "os.makedirs(os.path.join(new_path, val_dir), exist_ok=True)\n",
        "\n",
        "for dir_name in [train_dir, val_dir]:\n",
        "    for class_name in l_dir: \n",
        "        os.makedirs(os.path.join(new_path, dir_name, class_name), exist_ok=True)\n",
        "\n",
        "for class_name in l_dir:\n",
        "  source_dir = os.path.join(new_path, imgfolder, class_name)\n",
        "  print(source_dir)\n",
        "  for i, file_name in enumerate(tqdm(os.listdir(source_dir))): \n",
        "    if i%5==0:\n",
        "      dest_dir = os.path.join(new_path, val_dir, class_name) \n",
        "    else:\n",
        "      dest_dir = os.path.join(new_path, train_dir, class_name) \n",
        "\n",
        "    if file_name.find('.jpg')>=0:\n",
        "      shutil.copy(os.path.join(source_dir, file_name), os.path.join(dest_dir, file_name))\n"
      ],
      "metadata": {
        "id": "lgCCYEiHkXqk",
        "colab": {
          "base_uri": "https://localhost:8080/"
        },
        "outputId": "1e9b1664-3576-4a45-b213-0d76a4490be8"
      },
      "execution_count": null,
      "outputs": [
        {
          "output_type": "stream",
          "name": "stdout",
          "text": [
            "./imgObjectsM/oven\n"
          ]
        },
        {
          "output_type": "stream",
          "name": "stderr",
          "text": [
            "100%|██████████| 100/100 [00:00<00:00, 7161.67it/s]\n"
          ]
        },
        {
          "output_type": "stream",
          "name": "stdout",
          "text": [
            "./imgObjectsM/smartstove\n"
          ]
        },
        {
          "output_type": "stream",
          "name": "stderr",
          "text": [
            "100%|██████████| 100/100 [00:00<00:00, 6438.31it/s]\n"
          ]
        },
        {
          "output_type": "stream",
          "name": "stdout",
          "text": [
            "./imgObjectsM/gastove\n"
          ]
        },
        {
          "output_type": "stream",
          "name": "stderr",
          "text": [
            "100%|██████████| 100/100 [00:00<00:00, 7785.25it/s]\n"
          ]
        },
        {
          "output_type": "stream",
          "name": "stdout",
          "text": [
            "./imgObjectsM/boiler\n"
          ]
        },
        {
          "output_type": "stream",
          "name": "stderr",
          "text": [
            "100%|██████████| 100/100 [00:00<00:00, 8359.18it/s]\n"
          ]
        },
        {
          "output_type": "stream",
          "name": "stdout",
          "text": [
            "./imgObjectsM/bed\n"
          ]
        },
        {
          "output_type": "stream",
          "name": "stderr",
          "text": [
            "100%|██████████| 100/100 [00:00<00:00, 6450.89it/s]\n"
          ]
        },
        {
          "output_type": "stream",
          "name": "stdout",
          "text": [
            "./imgObjectsM/couch\n"
          ]
        },
        {
          "output_type": "stream",
          "name": "stderr",
          "text": [
            "100%|██████████| 100/100 [00:00<00:00, 7862.31it/s]\n"
          ]
        },
        {
          "output_type": "stream",
          "name": "stdout",
          "text": [
            "./imgObjectsM/microwave\n"
          ]
        },
        {
          "output_type": "stream",
          "name": "stderr",
          "text": [
            "100%|██████████| 100/100 [00:00<00:00, 6801.87it/s]\n"
          ]
        },
        {
          "output_type": "stream",
          "name": "stdout",
          "text": [
            "./imgObjectsM/tv\n"
          ]
        },
        {
          "output_type": "stream",
          "name": "stderr",
          "text": [
            "100%|██████████| 100/100 [00:00<00:00, 7562.62it/s]\n"
          ]
        },
        {
          "output_type": "stream",
          "name": "stdout",
          "text": [
            "./imgObjectsM/ref\n"
          ]
        },
        {
          "output_type": "stream",
          "name": "stderr",
          "text": [
            "100%|██████████| 100/100 [00:00<00:00, 10708.50it/s]\n"
          ]
        },
        {
          "output_type": "stream",
          "name": "stdout",
          "text": [
            "./imgObjectsM/washer\n"
          ]
        },
        {
          "output_type": "stream",
          "name": "stderr",
          "text": [
            "100%|██████████| 100/100 [00:00<00:00, 5749.32it/s]\n"
          ]
        },
        {
          "output_type": "stream",
          "name": "stdout",
          "text": [
            "./imgObjectsM/bath\n"
          ]
        },
        {
          "output_type": "stream",
          "name": "stderr",
          "text": [
            "100%|██████████| 100/100 [00:00<00:00, 7676.95it/s]\n"
          ]
        },
        {
          "output_type": "stream",
          "name": "stdout",
          "text": [
            "./imgObjectsM/elstove\n"
          ]
        },
        {
          "output_type": "stream",
          "name": "stderr",
          "text": [
            "100%|██████████| 100/100 [00:00<00:00, 6298.32it/s]\n"
          ]
        },
        {
          "output_type": "stream",
          "name": "stdout",
          "text": [
            "./imgObjectsM/cabin\n"
          ]
        },
        {
          "output_type": "stream",
          "name": "stderr",
          "text": [
            "100%|██████████| 100/100 [00:00<00:00, 5692.60it/s]\n"
          ]
        }
      ]
    },
    {
      "cell_type": "code",
      "source": [
        "for dir_name in [train_dir, val_dir]:\n",
        "    for class_name in l_dir: \n",
        "      print(dir_name, class_name, len(os.listdir(os.path.join(new_path, dir_name, class_name))))\n",
        "    print('')"
      ],
      "metadata": {
        "colab": {
          "base_uri": "https://localhost:8080/"
        },
        "id": "F-Y8FwuwKVFD",
        "outputId": "b4d7d724-81ea-4e2a-8807-d3e04f37f15b"
      },
      "execution_count": null,
      "outputs": [
        {
          "output_type": "stream",
          "name": "stdout",
          "text": [
            "train oven 80\n",
            "train smartstove 80\n",
            "train gastove 80\n",
            "train boiler 80\n",
            "train bed 80\n",
            "train couch 80\n",
            "train microwave 80\n",
            "train tv 80\n",
            "train ref 80\n",
            "train washer 80\n",
            "train bath 80\n",
            "train elstove 80\n",
            "train cabin 80\n",
            "\n",
            "val oven 20\n",
            "val smartstove 20\n",
            "val gastove 20\n",
            "val boiler 20\n",
            "val bed 20\n",
            "val couch 20\n",
            "val microwave 20\n",
            "val tv 20\n",
            "val ref 20\n",
            "val washer 20\n",
            "val bath 20\n",
            "val elstove 20\n",
            "val cabin 20\n",
            "\n"
          ]
        }
      ]
    },
    {
      "cell_type": "code",
      "source": [
        "import torch\n",
        "import torchvision\n",
        "\n",
        "from torchvision import transforms, models\n",
        "train_transforms = transforms.Compose([\n",
        "    \n",
        "    #transforms.RandomChoice(transforms = [\n",
        "    #    transforms.RandomRotation(degrees = 10),\n",
        "    #    transforms.RandomRotation(degrees = -10)\n",
        "    #]),\n",
        "\n",
        "    #transforms.RandomPerspective(distortion_scale=0.05, p=0.1), \n",
        "    # наклон изображения в разные стороны, чем больше distortion_scale, тем круче\n",
        "    #transforms.ColorJitter(brightness=0.5, contrast=0.5, saturation=0.5, hue=(-0.5,0.5)),   \n",
        "    #transforms.RandomVerticalFlip(p=0.5),\n",
        "    #transforms.RandomResizedCrop(224), # случайно обрезаем изображение до 224*224\n",
        "    #transforms.Grayscale(3),\n",
        "    transforms.Resize((224, 224)),\n",
        "    transforms.RandomHorizontalFlip(), # зеркально поворот по горизонтали\n",
        "    transforms.ToTensor(), # в тензор; при этом каждый канал будет не от 0 до 255, а от 0 до 1\n",
        "    transforms.Normalize([0.485, 0.456, 0.406], [0.229, 0.224, 0.225])\n",
        "])\n",
        "\n",
        "val_transforms = transforms.Compose([\n",
        "    transforms.Resize((224, 224)),\n",
        "    transforms.ToTensor(),\n",
        "    transforms.Normalize([0.485, 0.456, 0.406], [0.229, 0.224, 0.225])\n",
        "])\n",
        "\n",
        "train_dataset = torchvision.datasets.ImageFolder(train_dir, train_transforms)\n",
        "val_dataset = torchvision.datasets.ImageFolder(val_dir, val_transforms)\n",
        "# train_dir и val_dir - родительские папки, внутри cleaned и dirty \n",
        "# - соответственно метки изображений 0,1,2... берет из имен этих подкаталогов \n",
        "\n",
        "batch_size = 20\n",
        "train_dataloader = torch.utils.data.DataLoader(\n",
        "    train_dataset, batch_size=batch_size, shuffle=True, num_workers=0) #batch_size=32\n",
        "# shuffle=True - чтобы перетасовывать данные в каждую эпоху \n",
        "# (очень важно, если исп. батчи и shuffle=False, то фигня получится: \n",
        "# при загрузке нового батча будем забывать результат обучения на других батчах)\n",
        "# num_workers (int, необязательно) - сколько подпроцессов использовать для загрузки данных \n",
        "val_dataloader = torch.utils.data.DataLoader(\n",
        "    val_dataset, batch_size=batch_size, shuffle=False, num_workers=0)"
      ],
      "metadata": {
        "id": "Msp9r_56LtqL"
      },
      "execution_count": null,
      "outputs": []
    },
    {
      "cell_type": "code",
      "source": [
        "len(train_dataloader), len(train_dataset) # 13 папок (13 объектов) * 4 батча по 20 изображений"
      ],
      "metadata": {
        "colab": {
          "base_uri": "https://localhost:8080/"
        },
        "id": "9ujRP6K8OG6e",
        "outputId": "f37c168b-5cf5-43cc-badb-4b56dd49d103"
      },
      "execution_count": null,
      "outputs": [
        {
          "output_type": "execute_result",
          "data": {
            "text/plain": [
              "(52, 1040)"
            ]
          },
          "metadata": {},
          "execution_count": 40
        }
      ]
    },
    {
      "cell_type": "code",
      "source": [
        "len(val_dataloader), len(val_dataset) # 13 папок (13 объектов) * 1 батч по 20 изображений"
      ],
      "metadata": {
        "colab": {
          "base_uri": "https://localhost:8080/"
        },
        "id": "14PbOZkvOJfL",
        "outputId": "730ce8b9-8d45-44ef-c27f-260f2f18f286"
      },
      "execution_count": null,
      "outputs": [
        {
          "output_type": "execute_result",
          "data": {
            "text/plain": [
              "(13, 260)"
            ]
          },
          "metadata": {},
          "execution_count": 41
        }
      ]
    },
    {
      "cell_type": "code",
      "source": [
        "import matplotlib.pyplot as plt"
      ],
      "metadata": {
        "id": "1lLXnk9EO-yx"
      },
      "execution_count": null,
      "outputs": []
    },
    {
      "cell_type": "code",
      "source": [
        "X_batch, y_batch = next(iter(train_dataloader))\n",
        "mean = np.array([0.485, 0.456, 0.406])\n",
        "std = np.array([0.229, 0.224, 0.225])\n",
        "plt.imshow(X_batch[0].permute(1, 2, 0).numpy() * std + mean); "
      ],
      "metadata": {
        "colab": {
          "base_uri": "https://localhost:8080/",
          "height": 286
        },
        "id": "TXWb7bCUOTyv",
        "outputId": "98b10fbd-9236-4d4e-a09d-8d03949cd6be"
      },
      "execution_count": null,
      "outputs": [
        {
          "output_type": "stream",
          "name": "stderr",
          "text": [
            "Clipping input data to the valid range for imshow with RGB data ([0..1] for floats or [0..255] for integers).\n"
          ]
        },
        {
          "output_type": "display_data",
          "data": {
            "text/plain": [
              "<Figure size 432x288 with 1 Axes>"
            ],
            "image/png": "[encoded data removed]"
          },
          "metadata": {
            "needs_background": "light"
          }
        }
      ]
    },
    {
      "cell_type": "code",
      "source": [
        "def train_model(model, loss, optimizer, scheduler, num_epochs):\n",
        "    l_train = []\n",
        "    l_val = []\n",
        "    l_ind = []\n",
        "    for epoch in range(num_epochs):\n",
        "        l_ind.append(epoch)\n",
        "        print('Epoch {}/{}:'.format(epoch, num_epochs - 1), flush=True)\n",
        "        # сразу же выводить, а не после выхода из цикла (не буферизовать)\n",
        "        \n",
        "        is_stop=False\n",
        "        # Each epoch has a training and validation phase\n",
        "        for phase in ['train', 'val']:\n",
        "            if phase == 'train':\n",
        "                dataloader = train_dataloader\n",
        "                scheduler.step()\n",
        "                model.train()  # Set model to training mode\n",
        "            else:                \n",
        "                dataloader = val_dataloader\n",
        "                model.eval()   # Set model to evaluate mode\n",
        "\n",
        "            running_loss = 0.\n",
        "            running_acc = 0.\n",
        "            \n",
        "            # Iterate over data.\n",
        "            for inputs, labels in tqdm(dataloader):              \n",
        "              inputs = inputs.to(device)              \n",
        "              labels = labels.to(device)              \n",
        "              optimizer.zero_grad()\n",
        "              \n",
        "              # forward and backward\n",
        "              with torch.set_grad_enabled(phase == 'train'): # использовать градиенты или нет                \n",
        "                preds = model(inputs) # предсказание                \n",
        "                preds_class = preds.argmax(dim=1) # класс 0 nothing или 1 pen , где максимальная вероятность\n",
        "                loss_value = loss(preds, labels) # ошибка\n",
        "                \n",
        "                # backward + optimize only if in training phase\n",
        "                if phase == 'train':                  \n",
        "                  loss_value.backward() # считаем частные производные, градиенты                  \n",
        "                  optimizer.step() # корректируем веса\n",
        "              \n",
        "              # statistics\n",
        "              running_loss += loss_value.item()\n",
        "              running_acc += (preds_class == labels.data).float().mean()\n",
        "\n",
        "            epoch_loss = running_loss / len(dataloader)\n",
        "            epoch_acc = running_acc / len(dataloader)\n",
        "            \n",
        "            if phase == 'train':\n",
        "                l_train.append(epoch_acc.data.cpu().item())\n",
        "            else:\n",
        "                l_val.append(epoch_acc.data.cpu().item())\n",
        "                #if (l_train[len(l_train)-1]>=0.95) and (epoch>=120) and (l_val[len(l_val)-1]>=0.85):\n",
        "                #    is_stop= True                    \n",
        "                \n",
        "            print('{} Loss: {:.4f} Acc: {:.4f}'.format(phase, epoch_loss, epoch_acc), flush=True)\n",
        "        if is_stop:\n",
        "            break\n",
        "\n",
        "    return model, l_ind, l_train, l_val"
      ],
      "metadata": {
        "id": "4ZZ7PPEnPdEE"
      },
      "execution_count": null,
      "outputs": []
    },
    {
      "cell_type": "code",
      "source": [
        "model = models.resnet50(pretrained=True) # будем использовать предобученную сеть (на коллекции ImageNet - более млн. изображений)"
      ],
      "metadata": {
        "id": "Bio4n95iQCd_"
      },
      "execution_count": null,
      "outputs": []
    },
    {
      "cell_type": "code",
      "source": [
        "model.fc.weight.shape, model.fc.bias.shape"
      ],
      "metadata": {
        "colab": {
          "base_uri": "https://localhost:8080/"
        },
        "id": "6L0MthGkQ7ow",
        "outputId": "a117d480-a6b2-4647-c48c-637fdea5b8c5"
      },
      "execution_count": null,
      "outputs": [
        {
          "output_type": "execute_result",
          "data": {
            "text/plain": [
              "(torch.Size([1000, 2048]), torch.Size([1000]))"
            ]
          },
          "metadata": {},
          "execution_count": 46
        }
      ]
    },
    {
      "cell_type": "code",
      "source": [
        "# Отключаем градиенты для всех слоев\n",
        "for param in model.parameters():\n",
        "    param.requires_grad = False"
      ],
      "metadata": {
        "id": "xbmHVm1pQ-Ow"
      },
      "execution_count": null,
      "outputs": []
    },
    {
      "cell_type": "code",
      "source": [
        "# Подменяем последний полносвязный слой, вместо 2048 на 1000 у нас будет классификатор 2048 на 13 (кол-во классов)\n",
        "model.fc = torch.nn.Linear(model.fc.in_features, 13) \n",
        "# все тензоры должны находиться на одном устройстве, model помещать на cuda после этого шага\n",
        "model.fc.weight.shape, model.fc.bias.shape"
      ],
      "metadata": {
        "id": "tpB561iWRAYQ",
        "colab": {
          "base_uri": "https://localhost:8080/"
        },
        "outputId": "8652d068-6008-411f-e7d6-475bc1e8c760"
      },
      "execution_count": null,
      "outputs": [
        {
          "output_type": "execute_result",
          "data": {
            "text/plain": [
              "(torch.Size([13, 2048]), torch.Size([13]))"
            ]
          },
          "metadata": {},
          "execution_count": 48
        }
      ]
    },
    {
      "cell_type": "code",
      "source": [
        "model.fc.bias, model.fc.weight, model.fc.weight.data.shape, model.fc.weight.data.cpu()"
      ],
      "metadata": {
        "colab": {
          "base_uri": "https://localhost:8080/"
        },
        "id": "6dDXnxG0RC2X",
        "outputId": "0a8d988e-8c77-43b5-a12c-21fc9614b19a"
      },
      "execution_count": null,
      "outputs": [
        {
          "output_type": "execute_result",
          "data": {
            "text/plain": [
              "(Parameter containing:\n",
              " tensor([ 0.0015,  0.0050,  0.0132,  0.0161, -0.0060,  0.0022, -0.0052,  0.0184,\n",
              "          0.0149, -0.0034, -0.0191,  0.0012,  0.0011], requires_grad=True),\n",
              " Parameter containing:\n",
              " tensor([[-0.0170,  0.0013, -0.0208,  ...,  0.0141,  0.0024, -0.0025],\n",
              "         [ 0.0136, -0.0107,  0.0080,  ...,  0.0151,  0.0160, -0.0027],\n",
              "         [ 0.0173, -0.0024, -0.0099,  ..., -0.0024, -0.0113, -0.0058],\n",
              "         ...,\n",
              "         [ 0.0180,  0.0126,  0.0016,  ...,  0.0174, -0.0115,  0.0132],\n",
              "         [-0.0179,  0.0114, -0.0127,  ..., -0.0190,  0.0153, -0.0096],\n",
              "         [ 0.0117,  0.0078,  0.0171,  ...,  0.0029,  0.0035,  0.0005]],\n",
              "        requires_grad=True),\n",
              " torch.Size([13, 2048]),\n",
              " tensor([[-0.0170,  0.0013, -0.0208,  ...,  0.0141,  0.0024, -0.0025],\n",
              "         [ 0.0136, -0.0107,  0.0080,  ...,  0.0151,  0.0160, -0.0027],\n",
              "         [ 0.0173, -0.0024, -0.0099,  ..., -0.0024, -0.0113, -0.0058],\n",
              "         ...,\n",
              "         [ 0.0180,  0.0126,  0.0016,  ...,  0.0174, -0.0115,  0.0132],\n",
              "         [-0.0179,  0.0114, -0.0127,  ..., -0.0190,  0.0153, -0.0096],\n",
              "         [ 0.0117,  0.0078,  0.0171,  ...,  0.0029,  0.0035,  0.0005]]))"
            ]
          },
          "metadata": {},
          "execution_count": 49
        }
      ]
    },
    {
      "cell_type": "code",
      "source": [
        "device = torch.device(\"cuda:0\" if torch.cuda.is_available() else \"cpu\")\n",
        "model = model.to(device)\n",
        "\n",
        "loss = torch.nn.CrossEntropyLoss()\n",
        "optimizer = torch.optim.Adam(model.parameters(), lr=1.0e-3)\n",
        "\n",
        "# Decay LR by a factor of 0.1 every 7 epochs\n",
        "scheduler = torch.optim.lr_scheduler.StepLR(optimizer, step_size=20, gamma=0.1)"
      ],
      "metadata": {
        "id": "PtzOFWMfP9f5"
      },
      "execution_count": null,
      "outputs": []
    },
    {
      "cell_type": "code",
      "source": [
        "device"
      ],
      "metadata": {
        "colab": {
          "base_uri": "https://localhost:8080/"
        },
        "id": "aZU76a-rTdFK",
        "outputId": "b45dc72b-800c-45dc-87c5-b884dcbd39f3"
      },
      "execution_count": null,
      "outputs": [
        {
          "output_type": "execute_result",
          "data": {
            "text/plain": [
              "device(type='cuda', index=0)"
            ]
          },
          "metadata": {},
          "execution_count": 27
        }
      ]
    },
    {
      "cell_type": "code",
      "source": [
        "model, l_ind, l_train, l_val = train_model(model, loss, optimizer, scheduler, num_epochs=25)"
      ],
      "metadata": {
        "colab": {
          "base_uri": "https://localhost:8080/"
        },
        "id": "gOnA5_duRQyh",
        "outputId": "cbd444f9-1de3-4537-d314-d366b2c3ab97"
      },
      "execution_count": null,
      "outputs": [
        {
          "output_type": "stream",
          "name": "stdout",
          "text": [
            "Epoch 0/24:\n"
          ]
        },
        {
          "output_type": "stream",
          "name": "stderr",
          "text": [
            "/usr/local/lib/python3.7/dist-packages/torch/optim/lr_scheduler.py:136: UserWarning: Detected call of `lr_scheduler.step()` before `optimizer.step()`. In PyTorch 1.1.0 and later, you should call them in the opposite order: `optimizer.step()` before `lr_scheduler.step()`.  Failure to do this will result in PyTorch skipping the first value of the learning rate schedule. See more details at https://pytorch.org/docs/stable/optim.html#how-to-adjust-learning-rate\n",
            "  \"https://pytorch.org/docs/stable/optim.html#how-to-adjust-learning-rate\", UserWarning)\n",
            "100%|██████████| 52/52 [00:07<00:00,  6.67it/s]"
          ]
        },
        {
          "output_type": "stream",
          "name": "stdout",
          "text": [
            "train Loss: 1.6016 Acc: 0.5808\n"
          ]
        },
        {
          "output_type": "stream",
          "name": "stderr",
          "text": [
            "\n",
            "100%|██████████| 13/13 [00:01<00:00,  7.18it/s]"
          ]
        },
        {
          "output_type": "stream",
          "name": "stdout",
          "text": [
            "val Loss: 0.8664 Acc: 0.7962\n",
            "Epoch 1/24:\n"
          ]
        },
        {
          "output_type": "stream",
          "name": "stderr",
          "text": [
            "\n",
            "100%|██████████| 52/52 [00:07<00:00,  6.90it/s]"
          ]
        },
        {
          "output_type": "stream",
          "name": "stdout",
          "text": [
            "train Loss: 0.7117 Acc: 0.8375\n"
          ]
        },
        {
          "output_type": "stream",
          "name": "stderr",
          "text": [
            "\n",
            "100%|██████████| 13/13 [00:01<00:00,  7.23it/s]"
          ]
        },
        {
          "output_type": "stream",
          "name": "stdout",
          "text": [
            "val Loss: 0.5164 Acc: 0.9038\n",
            "Epoch 2/24:\n"
          ]
        },
        {
          "output_type": "stream",
          "name": "stderr",
          "text": [
            "\n",
            "100%|██████████| 52/52 [00:07<00:00,  7.01it/s]"
          ]
        },
        {
          "output_type": "stream",
          "name": "stdout",
          "text": [
            "train Loss: 0.4731 Acc: 0.8990\n"
          ]
        },
        {
          "output_type": "stream",
          "name": "stderr",
          "text": [
            "\n",
            "100%|██████████| 13/13 [00:01<00:00,  7.36it/s]"
          ]
        },
        {
          "output_type": "stream",
          "name": "stdout",
          "text": [
            "val Loss: 0.4000 Acc: 0.9077\n",
            "Epoch 3/24:\n"
          ]
        },
        {
          "output_type": "stream",
          "name": "stderr",
          "text": [
            "\n",
            "100%|██████████| 52/52 [00:07<00:00,  6.94it/s]"
          ]
        },
        {
          "output_type": "stream",
          "name": "stdout",
          "text": [
            "train Loss: 0.4070 Acc: 0.9125\n"
          ]
        },
        {
          "output_type": "stream",
          "name": "stderr",
          "text": [
            "\n",
            "100%|██████████| 13/13 [00:01<00:00,  7.14it/s]"
          ]
        },
        {
          "output_type": "stream",
          "name": "stdout",
          "text": [
            "val Loss: 0.3568 Acc: 0.9308\n",
            "Epoch 4/24:\n"
          ]
        },
        {
          "output_type": "stream",
          "name": "stderr",
          "text": [
            "\n",
            "100%|██████████| 52/52 [00:07<00:00,  6.95it/s]"
          ]
        },
        {
          "output_type": "stream",
          "name": "stdout",
          "text": [
            "train Loss: 0.3343 Acc: 0.9231\n"
          ]
        },
        {
          "output_type": "stream",
          "name": "stderr",
          "text": [
            "\n",
            "100%|██████████| 13/13 [00:01<00:00,  7.36it/s]"
          ]
        },
        {
          "output_type": "stream",
          "name": "stdout",
          "text": [
            "val Loss: 0.3008 Acc: 0.9192\n",
            "Epoch 5/24:\n"
          ]
        },
        {
          "output_type": "stream",
          "name": "stderr",
          "text": [
            "\n",
            "100%|██████████| 52/52 [00:07<00:00,  6.98it/s]"
          ]
        },
        {
          "output_type": "stream",
          "name": "stdout",
          "text": [
            "train Loss: 0.2765 Acc: 0.9423\n"
          ]
        },
        {
          "output_type": "stream",
          "name": "stderr",
          "text": [
            "\n",
            "100%|██████████| 13/13 [00:01<00:00,  7.31it/s]"
          ]
        },
        {
          "output_type": "stream",
          "name": "stdout",
          "text": [
            "val Loss: 0.2912 Acc: 0.9231\n",
            "Epoch 6/24:\n"
          ]
        },
        {
          "output_type": "stream",
          "name": "stderr",
          "text": [
            "\n",
            "100%|██████████| 52/52 [00:07<00:00,  6.99it/s]"
          ]
        },
        {
          "output_type": "stream",
          "name": "stdout",
          "text": [
            "train Loss: 0.2565 Acc: 0.9462\n"
          ]
        },
        {
          "output_type": "stream",
          "name": "stderr",
          "text": [
            "\n",
            "100%|██████████| 13/13 [00:01<00:00,  7.40it/s]"
          ]
        },
        {
          "output_type": "stream",
          "name": "stdout",
          "text": [
            "val Loss: 0.3057 Acc: 0.9038\n",
            "Epoch 7/24:\n"
          ]
        },
        {
          "output_type": "stream",
          "name": "stderr",
          "text": [
            "\n",
            "100%|██████████| 52/52 [00:07<00:00,  7.02it/s]"
          ]
        },
        {
          "output_type": "stream",
          "name": "stdout",
          "text": [
            "train Loss: 0.2297 Acc: 0.9471\n"
          ]
        },
        {
          "output_type": "stream",
          "name": "stderr",
          "text": [
            "\n",
            "100%|██████████| 13/13 [00:01<00:00,  7.31it/s]"
          ]
        },
        {
          "output_type": "stream",
          "name": "stdout",
          "text": [
            "val Loss: 0.2814 Acc: 0.9077\n",
            "Epoch 8/24:\n"
          ]
        },
        {
          "output_type": "stream",
          "name": "stderr",
          "text": [
            "\n",
            "100%|██████████| 52/52 [00:07<00:00,  6.98it/s]"
          ]
        },
        {
          "output_type": "stream",
          "name": "stdout",
          "text": [
            "train Loss: 0.2025 Acc: 0.9596\n"
          ]
        },
        {
          "output_type": "stream",
          "name": "stderr",
          "text": [
            "\n",
            "100%|██████████| 13/13 [00:01<00:00,  7.29it/s]"
          ]
        },
        {
          "output_type": "stream",
          "name": "stdout",
          "text": [
            "val Loss: 0.2442 Acc: 0.9269\n",
            "Epoch 9/24:\n"
          ]
        },
        {
          "output_type": "stream",
          "name": "stderr",
          "text": [
            "\n",
            "100%|██████████| 52/52 [00:07<00:00,  6.92it/s]"
          ]
        },
        {
          "output_type": "stream",
          "name": "stdout",
          "text": [
            "train Loss: 0.1981 Acc: 0.9587\n"
          ]
        },
        {
          "output_type": "stream",
          "name": "stderr",
          "text": [
            "\n",
            "100%|██████████| 13/13 [00:01<00:00,  7.30it/s]"
          ]
        },
        {
          "output_type": "stream",
          "name": "stdout",
          "text": [
            "val Loss: 0.2466 Acc: 0.9269\n",
            "Epoch 10/24:\n"
          ]
        },
        {
          "output_type": "stream",
          "name": "stderr",
          "text": [
            "\n",
            "100%|██████████| 52/52 [00:07<00:00,  6.98it/s]"
          ]
        },
        {
          "output_type": "stream",
          "name": "stdout",
          "text": [
            "train Loss: 0.1836 Acc: 0.9567\n"
          ]
        },
        {
          "output_type": "stream",
          "name": "stderr",
          "text": [
            "\n",
            "100%|██████████| 13/13 [00:01<00:00,  7.42it/s]"
          ]
        },
        {
          "output_type": "stream",
          "name": "stdout",
          "text": [
            "val Loss: 0.2412 Acc: 0.9231\n",
            "Epoch 11/24:\n"
          ]
        },
        {
          "output_type": "stream",
          "name": "stderr",
          "text": [
            "\n",
            "100%|██████████| 52/52 [00:07<00:00,  6.96it/s]"
          ]
        },
        {
          "output_type": "stream",
          "name": "stdout",
          "text": [
            "train Loss: 0.1601 Acc: 0.9740\n"
          ]
        },
        {
          "output_type": "stream",
          "name": "stderr",
          "text": [
            "\n",
            "100%|██████████| 13/13 [00:01<00:00,  7.32it/s]"
          ]
        },
        {
          "output_type": "stream",
          "name": "stdout",
          "text": [
            "val Loss: 0.2447 Acc: 0.9346\n",
            "Epoch 12/24:\n"
          ]
        },
        {
          "output_type": "stream",
          "name": "stderr",
          "text": [
            "\n",
            "100%|██████████| 52/52 [00:07<00:00,  7.02it/s]"
          ]
        },
        {
          "output_type": "stream",
          "name": "stdout",
          "text": [
            "train Loss: 0.1751 Acc: 0.9596\n"
          ]
        },
        {
          "output_type": "stream",
          "name": "stderr",
          "text": [
            "\n",
            "100%|██████████| 13/13 [00:01<00:00,  7.40it/s]"
          ]
        },
        {
          "output_type": "stream",
          "name": "stdout",
          "text": [
            "val Loss: 0.2389 Acc: 0.9231\n",
            "Epoch 13/24:\n"
          ]
        },
        {
          "output_type": "stream",
          "name": "stderr",
          "text": [
            "\n",
            "100%|██████████| 52/52 [00:07<00:00,  7.01it/s]"
          ]
        },
        {
          "output_type": "stream",
          "name": "stdout",
          "text": [
            "train Loss: 0.1361 Acc: 0.9692\n"
          ]
        },
        {
          "output_type": "stream",
          "name": "stderr",
          "text": [
            "\n",
            "100%|██████████| 13/13 [00:01<00:00,  7.38it/s]"
          ]
        },
        {
          "output_type": "stream",
          "name": "stdout",
          "text": [
            "val Loss: 0.2345 Acc: 0.9346\n",
            "Epoch 14/24:\n"
          ]
        },
        {
          "output_type": "stream",
          "name": "stderr",
          "text": [
            "\n",
            "100%|██████████| 52/52 [00:07<00:00,  6.99it/s]"
          ]
        },
        {
          "output_type": "stream",
          "name": "stdout",
          "text": [
            "train Loss: 0.1550 Acc: 0.9625\n"
          ]
        },
        {
          "output_type": "stream",
          "name": "stderr",
          "text": [
            "\n",
            "100%|██████████| 13/13 [00:01<00:00,  7.25it/s]"
          ]
        },
        {
          "output_type": "stream",
          "name": "stdout",
          "text": [
            "val Loss: 0.2924 Acc: 0.9000\n",
            "Epoch 15/24:\n"
          ]
        },
        {
          "output_type": "stream",
          "name": "stderr",
          "text": [
            "\n",
            "100%|██████████| 52/52 [00:07<00:00,  7.01it/s]"
          ]
        },
        {
          "output_type": "stream",
          "name": "stdout",
          "text": [
            "train Loss: 0.1443 Acc: 0.9644\n"
          ]
        },
        {
          "output_type": "stream",
          "name": "stderr",
          "text": [
            "\n",
            "100%|██████████| 13/13 [00:01<00:00,  7.29it/s]"
          ]
        },
        {
          "output_type": "stream",
          "name": "stdout",
          "text": [
            "val Loss: 0.2458 Acc: 0.9231\n",
            "Epoch 16/24:\n"
          ]
        },
        {
          "output_type": "stream",
          "name": "stderr",
          "text": [
            "\n",
            "100%|██████████| 52/52 [00:07<00:00,  6.90it/s]"
          ]
        },
        {
          "output_type": "stream",
          "name": "stdout",
          "text": [
            "train Loss: 0.1204 Acc: 0.9769\n"
          ]
        },
        {
          "output_type": "stream",
          "name": "stderr",
          "text": [
            "\n",
            "100%|██████████| 13/13 [00:01<00:00,  7.30it/s]"
          ]
        },
        {
          "output_type": "stream",
          "name": "stdout",
          "text": [
            "val Loss: 0.2253 Acc: 0.9346\n",
            "Epoch 17/24:\n"
          ]
        },
        {
          "output_type": "stream",
          "name": "stderr",
          "text": [
            "\n",
            "100%|██████████| 52/52 [00:07<00:00,  7.00it/s]"
          ]
        },
        {
          "output_type": "stream",
          "name": "stdout",
          "text": [
            "train Loss: 0.1160 Acc: 0.9731\n"
          ]
        },
        {
          "output_type": "stream",
          "name": "stderr",
          "text": [
            "\n",
            "100%|██████████| 13/13 [00:01<00:00,  7.41it/s]"
          ]
        },
        {
          "output_type": "stream",
          "name": "stdout",
          "text": [
            "val Loss: 0.2567 Acc: 0.9269\n",
            "Epoch 18/24:\n"
          ]
        },
        {
          "output_type": "stream",
          "name": "stderr",
          "text": [
            "\n",
            "100%|██████████| 52/52 [00:07<00:00,  7.00it/s]"
          ]
        },
        {
          "output_type": "stream",
          "name": "stdout",
          "text": [
            "train Loss: 0.1117 Acc: 0.9750\n"
          ]
        },
        {
          "output_type": "stream",
          "name": "stderr",
          "text": [
            "\n",
            "100%|██████████| 13/13 [00:01<00:00,  7.32it/s]"
          ]
        },
        {
          "output_type": "stream",
          "name": "stdout",
          "text": [
            "val Loss: 0.2259 Acc: 0.9385\n",
            "Epoch 19/24:\n"
          ]
        },
        {
          "output_type": "stream",
          "name": "stderr",
          "text": [
            "\n",
            "100%|██████████| 52/52 [00:07<00:00,  7.01it/s]"
          ]
        },
        {
          "output_type": "stream",
          "name": "stdout",
          "text": [
            "train Loss: 0.1002 Acc: 0.9779\n"
          ]
        },
        {
          "output_type": "stream",
          "name": "stderr",
          "text": [
            "\n",
            "100%|██████████| 13/13 [00:01<00:00,  7.27it/s]"
          ]
        },
        {
          "output_type": "stream",
          "name": "stdout",
          "text": [
            "val Loss: 0.2172 Acc: 0.9346\n",
            "Epoch 20/24:\n"
          ]
        },
        {
          "output_type": "stream",
          "name": "stderr",
          "text": [
            "\n",
            "100%|██████████| 52/52 [00:07<00:00,  6.98it/s]"
          ]
        },
        {
          "output_type": "stream",
          "name": "stdout",
          "text": [
            "train Loss: 0.0816 Acc: 0.9904\n"
          ]
        },
        {
          "output_type": "stream",
          "name": "stderr",
          "text": [
            "\n",
            "100%|██████████| 13/13 [00:01<00:00,  7.34it/s]"
          ]
        },
        {
          "output_type": "stream",
          "name": "stdout",
          "text": [
            "val Loss: 0.2207 Acc: 0.9385\n",
            "Epoch 21/24:\n"
          ]
        },
        {
          "output_type": "stream",
          "name": "stderr",
          "text": [
            "\n",
            "100%|██████████| 52/52 [00:07<00:00,  6.99it/s]"
          ]
        },
        {
          "output_type": "stream",
          "name": "stdout",
          "text": [
            "train Loss: 0.0892 Acc: 0.9827\n"
          ]
        },
        {
          "output_type": "stream",
          "name": "stderr",
          "text": [
            "\n",
            "100%|██████████| 13/13 [00:01<00:00,  7.39it/s]"
          ]
        },
        {
          "output_type": "stream",
          "name": "stdout",
          "text": [
            "val Loss: 0.2233 Acc: 0.9346\n",
            "Epoch 22/24:\n"
          ]
        },
        {
          "output_type": "stream",
          "name": "stderr",
          "text": [
            "\n",
            "100%|██████████| 52/52 [00:07<00:00,  6.92it/s]"
          ]
        },
        {
          "output_type": "stream",
          "name": "stdout",
          "text": [
            "train Loss: 0.0768 Acc: 0.9913\n"
          ]
        },
        {
          "output_type": "stream",
          "name": "stderr",
          "text": [
            "\n",
            "100%|██████████| 13/13 [00:01<00:00,  7.34it/s]"
          ]
        },
        {
          "output_type": "stream",
          "name": "stdout",
          "text": [
            "val Loss: 0.2051 Acc: 0.9462\n",
            "Epoch 23/24:\n"
          ]
        },
        {
          "output_type": "stream",
          "name": "stderr",
          "text": [
            "\n",
            "100%|██████████| 52/52 [00:07<00:00,  6.97it/s]"
          ]
        },
        {
          "output_type": "stream",
          "name": "stdout",
          "text": [
            "train Loss: 0.0889 Acc: 0.9865\n"
          ]
        },
        {
          "output_type": "stream",
          "name": "stderr",
          "text": [
            "\n",
            "100%|██████████| 13/13 [00:01<00:00,  7.30it/s]"
          ]
        },
        {
          "output_type": "stream",
          "name": "stdout",
          "text": [
            "val Loss: 0.2183 Acc: 0.9423\n",
            "Epoch 24/24:\n"
          ]
        },
        {
          "output_type": "stream",
          "name": "stderr",
          "text": [
            "\n",
            "100%|██████████| 52/52 [00:07<00:00,  6.95it/s]"
          ]
        },
        {
          "output_type": "stream",
          "name": "stdout",
          "text": [
            "train Loss: 0.0791 Acc: 0.9913\n"
          ]
        },
        {
          "output_type": "stream",
          "name": "stderr",
          "text": [
            "\n",
            "100%|██████████| 13/13 [00:01<00:00,  7.29it/s]"
          ]
        },
        {
          "output_type": "stream",
          "name": "stdout",
          "text": [
            "val Loss: 0.2178 Acc: 0.9462\n"
          ]
        },
        {
          "output_type": "stream",
          "name": "stderr",
          "text": [
            "\n"
          ]
        }
      ]
    },
    {
      "cell_type": "markdown",
      "source": [
        "Как изменялась точность на обучающей и тестовой выборках на протяжении 20 эпох"
      ],
      "metadata": {
        "id": "c40BZDtAoiFB"
      }
    },
    {
      "cell_type": "code",
      "source": [
        "# на cpu и не тензор, а конкретное значение\n",
        "import matplotlib.pyplot as plt\n",
        "plt.plot(l_ind, l_train, label='train')\n",
        "plt.plot(l_ind, l_val, label='val')\n",
        "plt.legend()\n",
        "plt.show() "
      ],
      "metadata": {
        "id": "N6eB1SDqXeOZ",
        "colab": {
          "base_uri": "https://localhost:8080/",
          "height": 265
        },
        "outputId": "99d5d20b-8836-4ef0-e7a7-5226c711dc8c"
      },
      "execution_count": null,
      "outputs": [
        {
          "output_type": "display_data",
          "data": {
            "text/plain": [
              "<Figure size 432x288 with 1 Axes>"
            ],
            "image/png": "[encoded data removed]"
          },
          "metadata": {
            "needs_background": "light"
          }
        }
      ]
    },
    {
      "cell_type": "code",
      "source": [
        "l_train[-1], l_val[-1]"
      ],
      "metadata": {
        "colab": {
          "base_uri": "https://localhost:8080/"
        },
        "id": "yj2JGui1oqER",
        "outputId": "c295269e-cf14-4b1f-aaf2-2bc4b156ed1c"
      },
      "execution_count": null,
      "outputs": [
        {
          "output_type": "execute_result",
          "data": {
            "text/plain": [
              "(0.9913462996482849, 0.9461538195610046)"
            ]
          },
          "metadata": {},
          "execution_count": 52
        }
      ]
    },
    {
      "cell_type": "code",
      "source": [
        "network_info = 'resnet50 эпох 25 батч 20 шаг 0.001 кажд 20 эпох измен в 0.1 раз.dat'\n",
        "\n",
        "import datetime \n",
        "now = datetime.datetime.now()\n",
        "dt_str = str(now).replace('-', '').replace(':', '').split('.')[0]\n",
        "\n",
        "acc_train = round(l_train[-1], 3)\n",
        "acc_val = round(l_val[-1], 3)\n",
        "\n",
        "network_info = dt_str+ ' - '+ str(acc_train)+' '+ str(acc_val) + ' - ' + network_info\n",
        "network_info"
      ],
      "metadata": {
        "id": "a_eCl0AeZV_s",
        "colab": {
          "base_uri": "https://localhost:8080/",
          "height": 36
        },
        "outputId": "157bafa6-daa5-4463-ef75-6893d11da117"
      },
      "execution_count": null,
      "outputs": [
        {
          "output_type": "execute_result",
          "data": {
            "text/plain": [
              "'20220602 061108 - 0.991 0.946 - resnet50 эпох 25 батч 20 шаг 0.001 кажд 20 эпох измен в 0.1 раз.dat'"
            ],
            "application/vnd.google.colaboratory.intrinsic+json": {
              "type": "string"
            }
          },
          "metadata": {},
          "execution_count": 53
        }
      ]
    },
    {
      "cell_type": "code",
      "source": [
        "# Сохраняем checkpoint:\n",
        "checkpoint_path = os.path.join('./', network_info)\n",
        "torch.save(model.state_dict(), checkpoint_path)\n",
        "print(\"Модель сохранена {}\".format(checkpoint_path))"
      ],
      "metadata": {
        "id": "oIanFpO4ZT4v",
        "colab": {
          "base_uri": "https://localhost:8080/"
        },
        "outputId": "1cdf74fb-601b-4ae8-e3c5-ce2d3877daa5"
      },
      "execution_count": null,
      "outputs": [
        {
          "output_type": "stream",
          "name": "stdout",
          "text": [
            "Модель сохранена ./20220602 061108 - 0.991 0.946 - resnet50 эпох 25 батч 20 шаг 0.001 кажд 20 эпох измен в 0.1 раз.dat\n"
          ]
        }
      ]
    },
    {
      "cell_type": "code",
      "source": [
        "shutil.copy(os.path.join('./', network_info), os.path.join('./MyDrive/MyDrive/vs_object_n/', network_info))"
      ],
      "metadata": {
        "id": "Z7k2TbxIbqfe",
        "colab": {
          "base_uri": "https://localhost:8080/",
          "height": 53
        },
        "outputId": "f1900207-edb7-4a18-d1be-4768ddc78702"
      },
      "execution_count": null,
      "outputs": [
        {
          "output_type": "execute_result",
          "data": {
            "text/plain": [
              "'./MyDrive/MyDrive/vs_object_n/20220529 095649 - 0.956 0.9 - GoogLeNet эпох 20 батч 20 шаг 0.001 кажд 20 эпох измен в 0.1 раз.dat'"
            ],
            "application/vnd.google.colaboratory.intrinsic+json": {
              "type": "string"
            }
          },
          "metadata": {},
          "execution_count": 148
        }
      ]
    },
    {
      "cell_type": "code",
      "source": [
        "# Создаем модель (объект класса NeuralNetwork) и загружаем параметры из checkpoint:\n",
        "model = models.resnet50(pretrained=True) #NeuralNetwork()\n",
        "model.fc = torch.nn.Linear(model.fc.in_features, 13) \n",
        "model.load_state_dict(torch.load(checkpoint_path))\n",
        "# print(model.state_dict())"
      ],
      "metadata": {
        "id": "oRjJKC2kbGcL",
        "colab": {
          "base_uri": "https://localhost:8080/"
        },
        "outputId": "79387726-f923-4cb1-b67c-96f76e790aae"
      },
      "execution_count": null,
      "outputs": [
        {
          "output_type": "execute_result",
          "data": {
            "text/plain": [
              "<All keys matched successfully>"
            ]
          },
          "metadata": {},
          "execution_count": 55
        }
      ]
    },
    {
      "cell_type": "code",
      "source": [
        "!nvidia-smi"
      ],
      "metadata": {
        "id": "rOedRdlG8uAh",
        "colab": {
          "base_uri": "https://localhost:8080/"
        },
        "outputId": "91af24f1-2da4-4df5-fa27-c460044f3b49"
      },
      "execution_count": null,
      "outputs": [
        {
          "output_type": "stream",
          "name": "stdout",
          "text": [
            "Sun May 29 09:12:29 2022       \n",
            "+-----------------------------------------------------------------------------+\n",
            "| NVIDIA-SMI 460.32.03    Driver Version: 460.32.03    CUDA Version: 11.2     |\n",
            "|-------------------------------+----------------------+----------------------+\n",
            "| GPU  Name        Persistence-M| Bus-Id        Disp.A | Volatile Uncorr. ECC |\n",
            "| Fan  Temp  Perf  Pwr:Usage/Cap|         Memory-Usage | GPU-Util  Compute M. |\n",
            "|                               |                      |               MIG M. |\n",
            "|===============================+======================+======================|\n",
            "|   0  Tesla T4            Off  | 00000000:00:04.0 Off |                    0 |\n",
            "| N/A   64C    P0    29W /  70W |   1484MiB / 15109MiB |      0%      Default |\n",
            "|                               |                      |                  N/A |\n",
            "+-------------------------------+----------------------+----------------------+\n",
            "                                                                               \n",
            "+-----------------------------------------------------------------------------+\n",
            "| Processes:                                                                  |\n",
            "|  GPU   GI   CI        PID   Type   Process name                  GPU Memory |\n",
            "|        ID   ID                                                   Usage      |\n",
            "|=============================================================================|\n",
            "+-----------------------------------------------------------------------------+\n"
          ]
        }
      ]
    }
  ]
}